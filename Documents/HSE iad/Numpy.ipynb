{
 "cells": [
  {
   "cell_type": "markdown",
   "id": "7112ee3e",
   "metadata": {},
   "source": [
    "Задание 1\n",
    "\n",
    "Напишите функцию, возвращающую округленную взвешенную сумму оценок по данным оценкам и весам. Можете посчитать свою оценку за курс :) В нашем случае вес экзамена равен 0.3, вес домашек - 0.4, вес контрольной - 0.2, вес самостоятельных - 0.1. Например, если за экзамен у вас 7, за домашки 10, за контрольную 8, а за самостоятельные 6, то вы получите отличную оценку 8!\n",
    "\n"
   ]
  },
  {
   "cell_type": "code",
   "execution_count": 139,
   "id": "5085db34",
   "metadata": {},
   "outputs": [],
   "source": [
    "def result_mark(weights: np.array, marks: np.array) -> int:\n",
    "    #на вход подается список весов и список оценок\n",
    "    #нужно сделать так чтобы на выходе получалась сумма весов перемноженных на соответствующую им оценку.\n",
    "    result = weights * marks\n",
    "    return result.sum().round()\n",
    "    \n",
    "weights = np.array([0.3, 0.4, 0.2, 0.1])\n",
    "marks = np.array([7, 10, 8, 6])\n",
    "\n",
    "assert result_mark(weights, marks) == 8\n",
    "\n",
    "weights = np.array([0.3, 0.4, 0.2, 0.1])\n",
    "marks = np.array([7, 0, 8, 6])\n",
    "\n",
    "assert result_mark(weights, marks) == 4"
   ]
  },
  {
   "cell_type": "markdown",
   "id": "27697e74",
   "metadata": {},
   "source": [
    "Задание 2\n",
    "Напишите функцию, меняющую каждое третье (начиная с 0) значение массива целых чисел на заданное число. Например, если на вход поступает массив array([3, 5, 1, 0, -3, 22, 213436]) и число -111, то на выходе должен получиться массив array([-111, 5, 1, -111, -3, 22, -111])."
   ]
  },
  {
   "cell_type": "code",
   "execution_count": 140,
   "id": "7f64b7ba",
   "metadata": {},
   "outputs": [],
   "source": [
    "def change_array(array: np.array, number: int) -> np.array:\n",
    "    indexes = np.arange(0, len(array), 3)\n",
    "\n",
    "    array[indexes] = number\n",
    "\n",
    "    return array\n",
    "\n",
    "array = np.array([3, 5, 1, 0, -3, 22, 213436])\n",
    "number = -111\n",
    "\n",
    "assert np.allclose(change_array(array, number), np.array([-111, 5, 1, -111, -3, 22, -111]))\n",
    "array = np.array([3, 14, 15, 92, 6])\n",
    "number = 8\n",
    "\n",
    "assert np.allclose(change_array(array, number), np.array([8, 14, 15, 8, 6]))"
   ]
  },
  {
   "cell_type": "markdown",
   "id": "9b303679",
   "metadata": {},
   "source": [
    "Задание 3\n",
    "\n",
    "Напишите функцию, выдающую индексы «близких» элементов заданных массивов, а именно тех пар элементов, чей модуль разницы не превосходит заданного значения. Например, если на вход поступают массив array([1.5, 0.5, 2, -4.1, -3, 6, -1]), массив array([1.2, 0.5, 1, -4, 3, 0, -1.2]) и число 0.5, то на выходе должен получиться массив array([0, 1, 3, 6]) (важно: не tuple, а одномерный массив типа numpy.ndarray (то есть .ndim от него равно 1)!)."
   ]
  },
  {
   "cell_type": "markdown",
   "id": "1e1d60ea",
   "metadata": {},
   "source": [
    "1) Надо вывести тех значений, которые будут давать модуль разности меньше числа со значением другого массива\n",
    "2) Можно вычесть их и взять модуль. Затем по булеву значению сделать список где получилось тру а где фолс.\n",
    "3) Затем можно сделать ренж индексов\n",
    "4) Затем можно отобрать индексы по списку тру фолс"
   ]
  },
  {
   "cell_type": "code",
   "execution_count": 141,
   "id": "1737336f",
   "metadata": {},
   "outputs": [],
   "source": [
    "def find_close(array1: np.array, array2: np.array,\n",
    "               precision: float) -> np.array:\n",
    "    array = np.absolute((array2-array1))\n",
    "    indexes = np.arange(0, len(array))\n",
    "    filtered = array <= precision\n",
    "    return indexes[filtered]\n",
    "    \n",
    "    \n",
    "    \n",
    "array1 = np.array([1.5, 0.5, 2, -4.1, -3, 6, -1])\n",
    "array2 = np.array([1.2, 0.5, 1, -4.0,  3, 0, -1.2])\n",
    "precision = 0.5\n",
    "res = find_close(array1, array2, precision)\n",
    "    \n",
    "assert res.ndim == 1\n",
    "assert np.allclose(res, np.array([0, 1, 3, 6]))\n",
    "\n",
    "array1 = np.array([3.1415, 2.7182, 1.6180, 6.6261])\n",
    "array2 = np.array([6.6730, 1.3807, -1,     6.0222])\n",
    "precision = 1.7\n",
    "res = find_close(array1, array2, precision)\n",
    "\n",
    "assert res.ndim == 1\n",
    "assert np.allclose(res, np.array([1, 3]))"
   ]
  },
  {
   "cell_type": "markdown",
   "id": "cce653f6",
   "metadata": {},
   "source": [
    "Задание 4\n",
    "Напишите функцию, которая составляет блочную матрицу из четырех блоков, где каждый блок - это заданная матрица. \n"
   ]
  },
  {
   "cell_type": "code",
   "execution_count": 142,
   "id": "fbabd608",
   "metadata": {},
   "outputs": [],
   "source": [
    "def block_matrix(block: np.array) -> np.array:\n",
    "    first_stack = np.vstack((block, block))\n",
    "    second_stack = np.hstack((first_stack, first_stack))\n",
    "    return second_stack\n",
    "\n",
    "    \n",
    "block = np.array([[1, 3, 3], [7, 0, 0]])\n",
    "\n",
    "assert np.allclose(\n",
    "    block_matrix(block),\n",
    "    np.array([[1, 3, 3, 1, 3, 3],\n",
    "              [7, 0, 0, 7, 0, 0],\n",
    "              [1, 3, 3, 1, 3, 3],\n",
    "              [7, 0, 0, 7, 0, 0]])\n",
    ")\n"
   ]
  },
  {
   "cell_type": "markdown",
   "id": "8e1f7423",
   "metadata": {},
   "source": [
    "Задание 5\n",
    "Напишите функцию, вычисляющую произведение всех ненулевых диагональных элементов на диагонали данной квадратной матрицы."
   ]
  },
  {
   "cell_type": "markdown",
   "id": "f5da5235",
   "metadata": {},
   "source": [
    "Можно посмотреть длину стороны матрицы n, затем поменять форму матрицы на одну строку, затем перемножить каждый nй элемент"
   ]
  },
  {
   "cell_type": "code",
   "execution_count": 143,
   "id": "6f712171",
   "metadata": {},
   "outputs": [],
   "source": [
    "def diag_prod(matrix: np.array) -> int:\n",
    "    n = len(matrix[0])\n",
    "    matrix = matrix.reshape(1, -1)\n",
    "    result = matrix[0][::n+1]\n",
    "    result = result[result!=0]\n",
    "    return np.prod(result)\n",
    "  \n",
    "matrix = np.array([[0, 1, 2, 3],\n",
    "                   [4, 5, 6, 7],\n",
    "                   [8, 9, 10, 11],\n",
    "                   [12, 13, 14, 15]])\n",
    "\n",
    "\n",
    "assert diag_prod(matrix) == 750\n",
    "\n",
    "\n"
   ]
  },
  {
   "cell_type": "markdown",
   "id": "a82c7d08",
   "metadata": {},
   "source": [
    "Задание 6\n",
    "Для улучшения качества работы некоторых алгоритмов машинного обучения может быть полезно использовать нормализацию данных, чтобы привести признаки в выборке к одному масштабу — а именно, из каждого столбца вычесть среднее его значений и поделить на их стандартное отклонение. Напишите функцию, нормализующую входящую матрицу (по столбцам). Например, если на вход подается матрица"
   ]
  },
  {
   "cell_type": "code",
   "execution_count": 144,
   "id": "774221dd",
   "metadata": {},
   "outputs": [],
   "source": [
    "def normalize(matrix: np.array) -> np.array:\n",
    "\n",
    "    height = matrix.shape[0]\n",
    "    column_sums = np.sum(matrix, axis=0)\n",
    "    means = column_sums/height\n",
    "    means_matrix = np.tile(means, (3,1))\n",
    "\n",
    "    std_matrix = matrix - means_matrix\n",
    "    std_matrix = (std_matrix ** 2)\n",
    "    std_matrix = np.sqrt((np.sum(std_matrix, axis = 0) / height)) \n",
    "    std_matrix = np.tile(std_matrix, (3,1))\n",
    "\n",
    "    matrix = (matrix - means_matrix) / std_matrix\n",
    "    return matrix\n",
    "    \n",
    "    \n",
    "    \n",
    "matrix = np.array([[1, 4, 4200], [0, 10, 5000], [1, 2, 1000]])\n",
    "\n",
    "assert np.allclose(\n",
    "    normalize(matrix),\n",
    "    np.array([[ 0.7071, -0.39223,  0.46291],\n",
    "              [-1.4142,  1.37281,  0.92582],\n",
    "              [ 0.7071, -0.98058, -1.38873]])\n",
    ")\n",
    "matrix = np.array([[-7, 2, 42], [2, 10, 50], [5, 4, 10]])\n",
    "\n",
    "assert np.allclose(\n",
    "    normalize(matrix),\n",
    "    np.array([[-1.37281, -0.98058,  0.46291],\n",
    "              [ 0.39223,  1.37281,  0.92582],\n",
    "              [ 0.98058, -0.39223, -1.38873]])\n",
    ")\n"
   ]
  },
  {
   "cell_type": "markdown",
   "id": "5ecb9bf5",
   "metadata": {},
   "source": [
    "Задание 7\n",
    "Написать функцию, возвращающую максимальный элемент в векторе x среди элементов, перед которыми стоит нулевой.\n",
    "Для x = np.array([6, 2, 0, 3, 0, 0, 5, 7, 0]) ответом является 5."
   ]
  },
  {
   "cell_type": "markdown",
   "id": "f56cd19d",
   "metadata": {},
   "source": [
    "1) можно разбить матрицу на столбцы по нулям, затем срезать все строки ниже второй, затем найти максимум\n",
    "2) можно сделать список индексов, затем для каждого индекса проверить: если элемент с таким индексом равен 0, то мы оставляем этот индекс. Затем сделать новый список значений по новым индексам и найти максимум."
   ]
  },
  {
   "cell_type": "code",
   "execution_count": 145,
   "id": "f027c980",
   "metadata": {},
   "outputs": [],
   "source": [
    "def prevZeroMax(matrix: np.array) -> int:\n",
    "    indices = np.arange(0, len(matrix))\n",
    "\n",
    "    indices = indices[matrix[indices-1] == 0]\n",
    "\n",
    "    indices = indices[indices!=0]\n",
    "    return max(matrix[indices])\n",
    "    \n",
    "    \n",
    "coefs = np.array([6, 2, 0, 3, 0, 0, 5, 7, 0])\n",
    "\n",
    "assert  prevZeroMax(coefs) == 5\n",
    "coefs = np.array([1, 0, 1, 0, 4, 2, 0])\n",
    "\n",
    "assert prevZeroMax(coefs) == 4"
   ]
  },
  {
   "cell_type": "markdown",
   "id": "d52b52d3",
   "metadata": {},
   "source": [
    "Задание 8\n",
    "\n",
    "Напишите функцию, делающую данную треугольную матрицу симметричной. Например, если на вход поступает матрица\n",
    " \n"
   ]
  },
  {
   "cell_type": "markdown",
   "id": "8075715f",
   "metadata": {},
   "source": [
    "1) Транспонируем матрицу\n",
    "2) Делаем список индексов для изначальной матрицы\n",
    "3) Далее для транспонированной матрицы там где ноль вставляем по индексу элемент из изначальной"
   ]
  },
  {
   "cell_type": "code",
   "execution_count": 146,
   "id": "4f138c3c",
   "metadata": {},
   "outputs": [
    {
     "data": {
      "text/plain": [
       "array([[ 1,  2,  3,  4],\n",
       "       [ 2,  5,  6,  7],\n",
       "       [ 3,  6,  8,  9],\n",
       "       [ 4,  7,  9, 10]])"
      ]
     },
     "execution_count": 146,
     "metadata": {},
     "output_type": "execute_result"
    }
   ],
   "source": [
    "matrix = np.array([[1, 2, 3, 4], [0, 5, 6, 7], [0, 0, 8, 9], [0, 0, 0, 10]])\n",
    "t_matrix = matrix.T\n",
    "a, b = matrix.shape[0], matrix.shape[1]\n",
    "t_matrix = t_matrix.flatten()\n",
    "matrix = matrix.flatten()\n",
    "\n",
    "indices = np.arange(0, matrix.size)\n",
    "indices_zero = indices[t_matrix[indices] == 0]\n",
    "t_matrix[indices_zero] = matrix[indices_zero]\n",
    "t_matrix.reshape(a,b)"
   ]
  },
  {
   "cell_type": "code",
   "execution_count": 147,
   "id": "d840b128",
   "metadata": {},
   "outputs": [],
   "source": [
    "def make_symmetric(matrix: np.array) -> np.array:\n",
    "    t_matrix = matrix.T\n",
    "    a, b = matrix.shape[0], matrix.shape[1]\n",
    "    t_matrix = t_matrix.flatten()\n",
    "    matrix = matrix.flatten()\n",
    "\n",
    "    indices = np.arange(0, matrix.size)\n",
    "    indices_zero = indices[t_matrix[indices] == 0]\n",
    "    t_matrix[indices_zero] = matrix[indices_zero]\n",
    "    return t_matrix.reshape(a,b)\n",
    "    \n",
    "matrix = np.array([[1, 2, 3, 4], [0, 5, 6, 7], [0, 0, 8, 9], [0, 0, 0, 10]])\n",
    "\n",
    "assert np.allclose(\n",
    "    make_symmetric(matrix),\n",
    "    np.array([[ 1,  2,  3,  4],\n",
    "              [ 2,  5,  6,  7],\n",
    "              [ 3,  6,  8,  9],\n",
    "              [ 4,  7,  9, 10]])\n",
    ")\n",
    "matrix = np.array([[10, 21, 32, 49], [0, 53, 62, 78], [0, 0, 82, 92], [0, 0, 0, 10]])\n",
    "\n",
    "assert np.allclose(\n",
    "    make_symmetric(matrix),\n",
    "    np.array([[10, 21, 32, 49],\n",
    "              [21, 53, 62, 78],\n",
    "              [32, 62, 82, 92],\n",
    "              [49, 78, 92, 10]])\n",
    ")"
   ]
  },
  {
   "cell_type": "markdown",
   "id": "69fd5f8f",
   "metadata": {},
   "source": [
    "Задание 9\n",
    "Напишите функцию, создающую прямоугольную матрицу из m одинаковых строк, заполненных последовательными натуральными числами от a до b включительно в возрастающем порядке. Например, если m = 5, a = 3, b = 10, то на выходе будет матрица\n",
    " \n"
   ]
  },
  {
   "cell_type": "code",
   "execution_count": 148,
   "id": "4a08c50e",
   "metadata": {},
   "outputs": [],
   "source": [
    "def construct_matrix(m: int, a: int, b: int) -> np.array:\n",
    "    axis = np.arange(a,b+1)\n",
    "    matrix = np.tile(axis, (m, 1))\n",
    "    return matrix\n",
    "    \n",
    "    \n",
    "    \n",
    "    \n",
    "m = 5\n",
    "a = 3\n",
    "b = 10\n",
    "\n",
    "assert np.allclose(\n",
    "    construct_matrix(m, a, b),\n",
    "    np.array([[ 3,  4,  5,  6,  7,  8,  9, 10],\n",
    "              [ 3,  4,  5,  6,  7,  8,  9, 10],\n",
    "              [ 3,  4,  5,  6,  7,  8,  9, 10],\n",
    "              [ 3,  4,  5,  6,  7,  8,  9, 10],\n",
    "              [ 3,  4,  5,  6,  7,  8,  9, 10]])\n",
    ")\n",
    "m = 3\n",
    "a = 2\n",
    "b = 6\n",
    "\n",
    "assert np.allclose(\n",
    "    construct_matrix(m, a, b),\n",
    "    np.array([[2, 3, 4, 5, 6],\n",
    "              [2, 3, 4, 5, 6],\n",
    "              [2, 3, 4, 5, 6]])\n",
    ")"
   ]
  },
  {
   "cell_type": "code",
   "execution_count": null,
   "id": "f15e19f9",
   "metadata": {},
   "outputs": [],
   "source": []
  }
 ],
 "metadata": {
  "kernelspec": {
   "display_name": "Python 3 (ipykernel)",
   "language": "python",
   "name": "python3"
  },
  "language_info": {
   "codemirror_mode": {
    "name": "ipython",
    "version": 3
   },
   "file_extension": ".py",
   "mimetype": "text/x-python",
   "name": "python",
   "nbconvert_exporter": "python",
   "pygments_lexer": "ipython3",
   "version": "3.11.5"
  }
 },
 "nbformat": 4,
 "nbformat_minor": 5
}
